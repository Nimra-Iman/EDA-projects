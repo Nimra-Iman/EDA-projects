{
 "cells": [
  {
   "cell_type": "code",
   "execution_count": 1,
   "id": "7e39c930-d2a1-41da-9216-8c1a5256ee88",
   "metadata": {},
   "outputs": [],
   "source": [
    "import numpy as np\n",
    "import pandas as pd\n",
    "import seaborn as sns\n",
    "import matplotlib.pyplot as plt"
   ]
  },
  {
   "cell_type": "code",
   "execution_count": 2,
   "id": "d9f15203-78ae-45ae-9829-5f169b23714c",
   "metadata": {},
   "outputs": [
    {
     "name": "stdout",
     "output_type": "stream",
     "text": [
      "   Order Id  Order Date       Ship Mode    Segment        Country  \\\n",
      "0         1  2023-03-01    Second Class   Consumer  United States   \n",
      "1         2  2023-08-15    Second Class   Consumer  United States   \n",
      "2         3  2023-01-10    Second Class  Corporate  United States   \n",
      "3         4  2022-06-18  Standard Class   Consumer  United States   \n",
      "4         5  2022-07-13  Standard Class   Consumer  United States   \n",
      "\n",
      "              City       State  Postal Code Region         Category  \\\n",
      "0        Henderson    Kentucky        42420  South        Furniture   \n",
      "1        Henderson    Kentucky        42420  South        Furniture   \n",
      "2      Los Angeles  California        90036   West  Office Supplies   \n",
      "3  Fort Lauderdale     Florida        33311  South        Furniture   \n",
      "4  Fort Lauderdale     Florida        33311  South  Office Supplies   \n",
      "\n",
      "  Sub Category       Product Id  cost price  List Price  Quantity  \\\n",
      "0    Bookcases  FUR-BO-10001798         240         260         2   \n",
      "1       Chairs  FUR-CH-10000454         600         730         3   \n",
      "2       Labels  OFF-LA-10000240          10          10         2   \n",
      "3       Tables  FUR-TA-10000577         780         960         5   \n",
      "4      Storage  OFF-ST-10000760          20          20         2   \n",
      "\n",
      "   Discount Percent  \n",
      "0                 2  \n",
      "1                 3  \n",
      "2                 5  \n",
      "3                 2  \n",
      "4                 5  \n"
     ]
    }
   ],
   "source": [
    "dataset=pd.read_csv(\"orders.csv\")\n",
    "print(dataset.head())"
   ]
  },
  {
   "cell_type": "code",
   "execution_count": 3,
   "id": "0845e2d7-0b4e-4652-a84c-d70c5e128641",
   "metadata": {},
   "outputs": [
    {
     "name": "stdout",
     "output_type": "stream",
     "text": [
      "Order Id            0\n",
      "Order Date          0\n",
      "Ship Mode           1\n",
      "Segment             0\n",
      "Country             0\n",
      "City                0\n",
      "State               0\n",
      "Postal Code         0\n",
      "Region              0\n",
      "Category            0\n",
      "Sub Category        0\n",
      "Product Id          0\n",
      "cost price          0\n",
      "List Price          0\n",
      "Quantity            0\n",
      "Discount Percent    0\n",
      "dtype: int64\n"
     ]
    }
   ],
   "source": [
    "print(dataset.isnull().sum())\n"
   ]
  },
  {
   "cell_type": "code",
   "execution_count": 45,
   "id": "df37c41f-7015-4d68-9c13-f4e7a5d9df42",
   "metadata": {},
   "outputs": [],
   "source": [
    "dataset.dropna(inplace =True)"
   ]
  },
  {
   "cell_type": "code",
   "execution_count": 4,
   "id": "bf323f08-dfba-4031-a828-e3422b06a32f",
   "metadata": {},
   "outputs": [
    {
     "name": "stdout",
     "output_type": "stream",
     "text": [
      "Order Id            0\n",
      "Order Date          0\n",
      "Ship Mode           1\n",
      "Segment             0\n",
      "Country             0\n",
      "City                0\n",
      "State               0\n",
      "Postal Code         0\n",
      "Region              0\n",
      "Category            0\n",
      "Sub Category        0\n",
      "Product Id          0\n",
      "cost price          0\n",
      "List Price          0\n",
      "Quantity            0\n",
      "Discount Percent    0\n",
      "dtype: int64\n"
     ]
    }
   ],
   "source": [
    "print(dataset.isnull().sum())"
   ]
  },
  {
   "cell_type": "code",
   "execution_count": 5,
   "id": "f8985c7a-ad17-4a80-ab62-d4b64b302665",
   "metadata": {},
   "outputs": [
    {
     "data": {
      "text/plain": [
       "Index(['Order Id', 'Order Date', 'Ship Mode', 'Segment', 'Country', 'City',\n",
       "       'State', 'Postal Code', 'Region', 'Category', 'Sub Category',\n",
       "       'Product Id', 'cost price', 'List Price', 'Quantity',\n",
       "       'Discount Percent'],\n",
       "      dtype='object')"
      ]
     },
     "execution_count": 5,
     "metadata": {},
     "output_type": "execute_result"
    }
   ],
   "source": [
    "dataset.columns\n"
   ]
  },
  {
   "cell_type": "code",
   "execution_count": 6,
   "id": "8194b5f6-fd53-4fc2-ae89-7edf98415da4",
   "metadata": {},
   "outputs": [
    {
     "data": {
      "text/plain": [
       "0     29.6\n",
       "1    324.3\n",
       "2     -1.0\n",
       "3    804.0\n",
       "4     -2.0\n",
       "Name: profit, dtype: float64"
      ]
     },
     "execution_count": 6,
     "metadata": {},
     "output_type": "execute_result"
    }
   ],
   "source": [
    "dataset[\"Discount Price\"]= dataset[\"List Price\"] * (dataset[\"Discount Percent\"]/100)\n",
    "dataset[\"selling price\"] = dataset[\"List Price\"] - dataset[\"Discount Price\"]\n",
    "dataset[\"profit per product\"] = dataset[\"selling price\"] - dataset[\"cost price\"]\n",
    "dataset[\"profit\"] = dataset[\"profit per product\"] * dataset[\"Quantity\"]\n",
    "dataset[\"profit\"].head()"
   ]
  },
  {
   "cell_type": "code",
   "execution_count": 7,
   "id": "a256f9b8-d0da-4d22-afbf-2f3b18d6073c",
   "metadata": {},
   "outputs": [
    {
     "name": "stdout",
     "output_type": "stream",
     "text": [
      "['Second Class' 'Standard Class' 'Not Available' 'unknown' 'First Class'\n",
      " nan 'Same Day']\n"
     ]
    }
   ],
   "source": [
    "print(dataset[\"Ship Mode\"].unique())"
   ]
  },
  {
   "cell_type": "code",
   "execution_count": 8,
   "id": "8fca9c64-9a6d-45ba-b799-a439fc5f5b53",
   "metadata": {},
   "outputs": [
    {
     "name": "stdout",
     "output_type": "stream",
     "text": [
      "['Second Class' 'Standard Class' 'First Class' nan 'Same Day']\n"
     ]
    }
   ],
   "source": [
    "filled_value=dataset[\"Ship Mode\"].mode()[0]\n",
    "dataset[\"Ship Mode\"]=dataset[\"Ship Mode\"].replace(\"Not Available\",filled_value)\n",
    "dataset[\"Ship Mode\"]=dataset[\"Ship Mode\"].replace(\"unknown\",filled_value)\n",
    "print(dataset[\"Ship Mode\"].unique())"
   ]
  },
  {
   "cell_type": "code",
   "execution_count": 9,
   "id": "322c1b66-f5bc-49f3-8fad-13c195bfbb0a",
   "metadata": {},
   "outputs": [
    {
     "data": {
      "text/plain": [
       "Index(['order_id', 'order_date', 'ship_mode', 'segment', 'country', 'city',\n",
       "       'state', 'postal_code', 'region', 'category', 'sub_category',\n",
       "       'product_id', 'cost_price', 'list_price', 'quantity',\n",
       "       'discount_percent', 'discount_price', 'selling_price',\n",
       "       'profit_per_product', 'profit'],\n",
       "      dtype='object')"
      ]
     },
     "execution_count": 9,
     "metadata": {},
     "output_type": "execute_result"
    }
   ],
   "source": [
    "dataset.columns=dataset.columns.str.lower()\n",
    "dataset.columns=dataset.columns.str.replace(\" \",\"_\")\n",
    "dataset.columns"
   ]
  },
  {
   "cell_type": "code",
   "execution_count": 11,
   "id": "971097cf-ac52-42c9-879f-964e4b1df45d",
   "metadata": {},
   "outputs": [],
   "source": [
    "# install SQLAlchemy\n",
    "# install mysql-connector-python\n",
    "from sqlalchemy import create_engine\n",
    "import mysql.connector\n",
    "# Replace these with your MySQL credentials\n",
    "username = 'root'\n",
    "password = '1234'\n",
    "host = 'localhost'\n",
    "database = 'nimra'\n",
    "\n",
    "# Create a connection to the database\n",
    "db_connection_str = f'mysql+mysqlconnector://{username}:{password}@{host}/{database}'\n",
    "db_connection = create_engine(db_connection_str)\n",
    "# phli line m hm sqlalchemy ki madad s link create kr rhy or phir engine ki madad s us link ko database k saath connect kr rhy"
   ]
  },
  {
   "cell_type": "code",
   "execution_count": 12,
   "id": "1b2bf364-a52f-4613-93a1-ffed55a76397",
   "metadata": {},
   "outputs": [
    {
     "data": {
      "text/plain": [
       "9994"
      ]
     },
     "execution_count": 12,
     "metadata": {},
     "output_type": "execute_result"
    }
   ],
   "source": [
    "# dataset.to_sql(name='df_order', con=db_connection, index=False, if_exists='replace')  # yani ap is dataset ko sql m daalo (data.to_sql) or table ka name\n",
    "# df_order ho ga, connections is db_connection (con=db_connection) or dataset k ander jo index automatically bna us ko false kr do and then\n",
    "# if_exists=\"replace\" is liye kia k agar koi table is name s nhi h to create kr do but agar h is name s to us table k ander jo data tha us data ko replace \n",
    "# kr do is dataset s\n",
    "\n",
    "\n",
    "#if_exists='replace' kryn gy to ek issue y ay ga k \n",
    "# mysql m jo table bna df_order k name s us k columns ki datatypes vo nhi hn jo hmary dataset m hn. to is liye hm mysql m ja kr \n",
    "# df_order vly table ko drop kryn gy \"drop table df_order\" or phir khud s empty table bnay gy with our required datatypes or phir\n",
    "# hm if_exists='append' kry gy , yani kehny ka matlab y hua k df_order valy table k ander is dataset ko append krna h\n",
    "dataset.to_sql(name=\"df_order\", con=db_connection, index=False, if_exists=\"append\")"
   ]
  },
  {
   "cell_type": "code",
   "execution_count": null,
   "id": "791b6b79-ec39-4a96-ade5-05a9fdc64136",
   "metadata": {},
   "outputs": [],
   "source": [
    "# until now data is cleaned using python and successfully loaded to sql. Now, sql, there is some data analysis will done:"
   ]
  }
 ],
 "metadata": {
  "kernelspec": {
   "display_name": "Python 3 (ipykernel)",
   "language": "python",
   "name": "python3"
  },
  "language_info": {
   "codemirror_mode": {
    "name": "ipython",
    "version": 3
   },
   "file_extension": ".py",
   "mimetype": "text/x-python",
   "name": "python",
   "nbconvert_exporter": "python",
   "pygments_lexer": "ipython3",
   "version": "3.12.2"
  }
 },
 "nbformat": 4,
 "nbformat_minor": 5
}
