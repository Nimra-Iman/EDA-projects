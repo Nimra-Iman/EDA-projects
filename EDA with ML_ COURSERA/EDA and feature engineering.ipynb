{
 "cells": [
  {
   "cell_type": "code",
   "execution_count": 1,
   "id": "758cc5bb-99d7-483c-9868-6f2d0f8f677a",
   "metadata": {},
   "outputs": [],
   "source": [
    "import pandas as pd \n",
    "import matplotlib.pyplot as plt\n",
    "import seaborn as sns\n",
    "import plotly.express as px\n",
    "import requests\n",
    "import json"
   ]
  },
  {
   "cell_type": "code",
   "execution_count": 18,
   "id": "27ccfca8-12a5-4a7d-bb6c-8eba8ff8851e",
   "metadata": {},
   "outputs": [
    {
     "data": {
      "text/html": [
       "<div>\n",
       "<style scoped>\n",
       "    .dataframe tbody tr th:only-of-type {\n",
       "        vertical-align: middle;\n",
       "    }\n",
       "\n",
       "    .dataframe tbody tr th {\n",
       "        vertical-align: top;\n",
       "    }\n",
       "\n",
       "    .dataframe thead th {\n",
       "        text-align: right;\n",
       "    }\n",
       "</style>\n",
       "<table border=\"1\" class=\"dataframe\">\n",
       "  <thead>\n",
       "    <tr style=\"text-align: right;\">\n",
       "      <th></th>\n",
       "      <th>Order Id</th>\n",
       "      <th>Order Date</th>\n",
       "      <th>Ship Mode</th>\n",
       "      <th>Segment</th>\n",
       "      <th>Country</th>\n",
       "      <th>City</th>\n",
       "      <th>State</th>\n",
       "      <th>Postal Code</th>\n",
       "      <th>Region</th>\n",
       "      <th>Category</th>\n",
       "      <th>Sub Category</th>\n",
       "      <th>Product Id</th>\n",
       "      <th>cost price</th>\n",
       "      <th>List Price</th>\n",
       "      <th>Quantity</th>\n",
       "      <th>Discount Percent</th>\n",
       "    </tr>\n",
       "  </thead>\n",
       "  <tbody>\n",
       "    <tr>\n",
       "      <th>7414</th>\n",
       "      <td>7415</td>\n",
       "      <td>2022-12-14</td>\n",
       "      <td>Second Class</td>\n",
       "      <td>Corporate</td>\n",
       "      <td>United States</td>\n",
       "      <td>Philadelphia</td>\n",
       "      <td>Pennsylvania</td>\n",
       "      <td>19134</td>\n",
       "      <td>East</td>\n",
       "      <td>Furniture</td>\n",
       "      <td>Chairs</td>\n",
       "      <td>FUR-CH-10004287</td>\n",
       "      <td>320</td>\n",
       "      <td>390</td>\n",
       "      <td>2</td>\n",
       "      <td>3</td>\n",
       "    </tr>\n",
       "    <tr>\n",
       "      <th>2170</th>\n",
       "      <td>2171</td>\n",
       "      <td>2022-07-30</td>\n",
       "      <td>Second Class</td>\n",
       "      <td>Consumer</td>\n",
       "      <td>United States</td>\n",
       "      <td>Kent</td>\n",
       "      <td>Ohio</td>\n",
       "      <td>44240</td>\n",
       "      <td>East</td>\n",
       "      <td>Technology</td>\n",
       "      <td>Phones</td>\n",
       "      <td>TEC-PH-10003931</td>\n",
       "      <td>100</td>\n",
       "      <td>110</td>\n",
       "      <td>3</td>\n",
       "      <td>2</td>\n",
       "    </tr>\n",
       "    <tr>\n",
       "      <th>3967</th>\n",
       "      <td>3968</td>\n",
       "      <td>2022-06-28</td>\n",
       "      <td>First Class</td>\n",
       "      <td>Home Office</td>\n",
       "      <td>United States</td>\n",
       "      <td>Colorado Springs</td>\n",
       "      <td>Colorado</td>\n",
       "      <td>80906</td>\n",
       "      <td>West</td>\n",
       "      <td>Office Supplies</td>\n",
       "      <td>Binders</td>\n",
       "      <td>OFF-BI-10003638</td>\n",
       "      <td>30</td>\n",
       "      <td>40</td>\n",
       "      <td>7</td>\n",
       "      <td>3</td>\n",
       "    </tr>\n",
       "    <tr>\n",
       "      <th>8105</th>\n",
       "      <td>8106</td>\n",
       "      <td>2022-06-27</td>\n",
       "      <td>First Class</td>\n",
       "      <td>Home Office</td>\n",
       "      <td>United States</td>\n",
       "      <td>Houston</td>\n",
       "      <td>Texas</td>\n",
       "      <td>77041</td>\n",
       "      <td>Central</td>\n",
       "      <td>Furniture</td>\n",
       "      <td>Bookcases</td>\n",
       "      <td>FUR-BO-10001601</td>\n",
       "      <td>80</td>\n",
       "      <td>90</td>\n",
       "      <td>1</td>\n",
       "      <td>4</td>\n",
       "    </tr>\n",
       "    <tr>\n",
       "      <th>331</th>\n",
       "      <td>332</td>\n",
       "      <td>2022-04-11</td>\n",
       "      <td>Second Class</td>\n",
       "      <td>Consumer</td>\n",
       "      <td>United States</td>\n",
       "      <td>Philadelphia</td>\n",
       "      <td>Pennsylvania</td>\n",
       "      <td>19134</td>\n",
       "      <td>East</td>\n",
       "      <td>Technology</td>\n",
       "      <td>Phones</td>\n",
       "      <td>TEC-PH-10004614</td>\n",
       "      <td>70</td>\n",
       "      <td>80</td>\n",
       "      <td>2</td>\n",
       "      <td>3</td>\n",
       "    </tr>\n",
       "  </tbody>\n",
       "</table>\n",
       "</div>"
      ],
      "text/plain": [
       "      Order Id  Order Date     Ship Mode      Segment        Country  \\\n",
       "7414      7415  2022-12-14  Second Class    Corporate  United States   \n",
       "2170      2171  2022-07-30  Second Class     Consumer  United States   \n",
       "3967      3968  2022-06-28   First Class  Home Office  United States   \n",
       "8105      8106  2022-06-27   First Class  Home Office  United States   \n",
       "331        332  2022-04-11  Second Class     Consumer  United States   \n",
       "\n",
       "                  City         State  Postal Code   Region         Category  \\\n",
       "7414      Philadelphia  Pennsylvania        19134     East        Furniture   \n",
       "2170              Kent          Ohio        44240     East       Technology   \n",
       "3967  Colorado Springs      Colorado        80906     West  Office Supplies   \n",
       "8105           Houston         Texas        77041  Central        Furniture   \n",
       "331       Philadelphia  Pennsylvania        19134     East       Technology   \n",
       "\n",
       "     Sub Category       Product Id  cost price  List Price  Quantity  \\\n",
       "7414       Chairs  FUR-CH-10004287         320         390         2   \n",
       "2170       Phones  TEC-PH-10003931         100         110         3   \n",
       "3967      Binders  OFF-BI-10003638          30          40         7   \n",
       "8105    Bookcases  FUR-BO-10001601          80          90         1   \n",
       "331        Phones  TEC-PH-10004614          70          80         2   \n",
       "\n",
       "      Discount Percent  \n",
       "7414                 3  \n",
       "2170                 2  \n",
       "3967                 3  \n",
       "8105                 4  \n",
       "331                  3  "
      ]
     },
     "execution_count": 18,
     "metadata": {},
     "output_type": "execute_result"
    }
   ],
   "source": [
    "data = pd.read_csv('orders.csv')\n",
    "data.sample(n = 5, replace = False) # replace = False krny ka matlab y h k jo row ek baar pick kr li vo dubara pock nhi \n",
    "# krni h"
   ]
  },
  {
   "cell_type": "code",
   "execution_count": null,
   "id": "795c01ef-9e34-4b17-b9d9-dd1bedff6618",
   "metadata": {},
   "outputs": [],
   "source": [
    "Pandas also allow plotting. The plot function in pandas allow to make plots"
   ]
  },
  {
   "cell_type": "code",
   "execution_count": 4,
   "id": "5d0694fa-bf9e-4654-bdd2-f003a104cd05",
   "metadata": {},
   "outputs": [
    {
     "data": {
      "text/plain": [
       "<Axes: xlabel='Category'>"
      ]
     },
     "execution_count": 4,
     "metadata": {},
     "output_type": "execute_result"
    },
    {
     "data": {
      "image/png": "[encoded data removed]",
      "text/plain": [
       "<Figure size 640x480 with 1 Axes>"
      ]
     },
     "metadata": {},
     "output_type": "display_data"
    }
   ],
   "source": [
    "# Only keep numeric columns for mean\n",
    "data.groupby('Category')['Quantity'].mean().plot()\n"
   ]
  },
  {
   "cell_type": "code",
   "execution_count": 5,
   "id": "43558027-fc93-44e1-ad00-12cab041a546",
   "metadata": {},
   "outputs": [
    {
     "name": "stdout",
     "output_type": "stream",
     "text": [
      "   total_bill   tip     sex smoker  day    time  size\n",
      "0       16.99  1.01  Female     No  Sun  Dinner     2\n",
      "1       10.34  1.66    Male     No  Sun  Dinner     3\n",
      "2       21.01  3.50    Male     No  Sun  Dinner     3\n",
      "3       23.68  3.31    Male     No  Sun  Dinner     2\n",
      "4       24.59  3.61  Female     No  Sun  Dinner     4\n"
     ]
    },
    {
     "data": {
      "text/plain": [
       "<seaborn.axisgrid.JointGrid at 0x21556105400>"
      ]
     },
     "execution_count": 5,
     "metadata": {},
     "output_type": "execute_result"
    },
    {
     "data": {
      "image/png": "[encoded data removed]",
      "text/plain": [
       "<Figure size 600x600 with 3 Axes>"
      ]
     },
     "metadata": {},
     "output_type": "display_data"
    }
   ],
   "source": [
    "import seaborn as sns\n",
    "import pandas as pd\n",
    "import matplotlib.pyplot as plt\n",
    "\n",
    "data = sns.load_dataset('tips')\n",
    "print(data.head())\n",
    "\n",
    "sns.jointplot(x = data['total_bill'], y = data['size'], kind = 'hex')"
   ]
  },
  {
   "cell_type": "code",
   "execution_count": 10,
   "id": "85c9588d-5d92-4a8d-b1ae-d69f7582f1e4",
   "metadata": {},
   "outputs": [
    {
     "data": {
      "image/png": "[encoded data removed]",
      "text/plain": [
       "<Figure size 611.111x300 with 2 Axes>"
      ]
     },
     "metadata": {},
     "output_type": "display_data"
    }
   ],
   "source": [
    "\n",
    "df=sns.load_dataset(\"tips\")\n",
    "y = sns.FacetGrid(df, col=\"sex\")  #col=\"sex\" krny s male and female ka graph alag\n",
    "# alag show ho ga\n",
    "y.map(plt.scatter, \"total_bill\",\"tip\", edgecolor=\"g\").add_legend()   #.add_legend() krna zruri h vrna legend \n",
    "                            # show nhi ho ga \n",
    "plt.show()"
   ]
  },
  {
   "cell_type": "code",
   "execution_count": 14,
   "id": "ca458d6b-b786-47b3-94fe-01b8dc1fa012",
   "metadata": {},
   "outputs": [],
   "source": [
    "x = data.describe()"
   ]
  },
  {
   "cell_type": "code",
   "execution_count": 15,
   "id": "2ccbae50-bea1-4d93-bfde-9569cbbcaa5a",
   "metadata": {},
   "outputs": [
    {
     "data": {
      "text/html": [
       "<div>\n",
       "<style scoped>\n",
       "    .dataframe tbody tr th:only-of-type {\n",
       "        vertical-align: middle;\n",
       "    }\n",
       "\n",
       "    .dataframe tbody tr th {\n",
       "        vertical-align: top;\n",
       "    }\n",
       "\n",
       "    .dataframe thead th {\n",
       "        text-align: right;\n",
       "    }\n",
       "</style>\n",
       "<table border=\"1\" class=\"dataframe\">\n",
       "  <thead>\n",
       "    <tr style=\"text-align: right;\">\n",
       "      <th></th>\n",
       "      <th>total_bill</th>\n",
       "      <th>tip</th>\n",
       "      <th>size</th>\n",
       "    </tr>\n",
       "  </thead>\n",
       "  <tbody>\n",
       "    <tr>\n",
       "      <th>mean</th>\n",
       "      <td>19.785943</td>\n",
       "      <td>2.998279</td>\n",
       "      <td>2.569672</td>\n",
       "    </tr>\n",
       "    <tr>\n",
       "      <th>25%</th>\n",
       "      <td>13.347500</td>\n",
       "      <td>2.000000</td>\n",
       "      <td>2.000000</td>\n",
       "    </tr>\n",
       "    <tr>\n",
       "      <th>median</th>\n",
       "      <td>17.795000</td>\n",
       "      <td>2.900000</td>\n",
       "      <td>2.000000</td>\n",
       "    </tr>\n",
       "    <tr>\n",
       "      <th>75%</th>\n",
       "      <td>24.127500</td>\n",
       "      <td>3.562500</td>\n",
       "      <td>3.000000</td>\n",
       "    </tr>\n",
       "    <tr>\n",
       "      <th>max</th>\n",
       "      <td>50.810000</td>\n",
       "      <td>10.000000</td>\n",
       "      <td>6.000000</td>\n",
       "    </tr>\n",
       "  </tbody>\n",
       "</table>\n",
       "</div>"
      ],
      "text/plain": [
       "        total_bill        tip      size\n",
       "mean     19.785943   2.998279  2.569672\n",
       "25%      13.347500   2.000000  2.000000\n",
       "median   17.795000   2.900000  2.000000\n",
       "75%      24.127500   3.562500  3.000000\n",
       "max      50.810000  10.000000  6.000000"
      ]
     },
     "execution_count": 15,
     "metadata": {},
     "output_type": "execute_result"
    }
   ],
   "source": [
    "median = x.loc['50%']\n",
    "# out_fields = ['mean','25%','50%','75%', 'max']\n",
    "# all_data = x.loc[out_fields]\n",
    "#   ----------------  OR  ------------------\n",
    "all_data = x.loc[['mean','25%','50%','75%', 'max']]\n",
    "\n",
    "all_data = all_data.rename(index={'50%': 'median'})\n",
    "all_data"
   ]
  },
  {
   "cell_type": "code",
   "execution_count": 16,
   "id": "1d4a866a-1a2b-4ad6-b10c-2b1bbd218ffa",
   "metadata": {},
   "outputs": [
    {
     "data": {
      "text/plain": [
       "<Axes: >"
      ]
     },
     "execution_count": 16,
     "metadata": {},
     "output_type": "execute_result"
    },
    {
     "data": {
      "image/png": "[encoded data removed]",
      "text/plain": [
       "<Figure size 640x480 with 1 Axes>"
      ]
     },
     "metadata": {},
     "output_type": "display_data"
    }
   ],
   "source": [
    "data.boxplot() "
   ]
  },
  {
   "cell_type": "code",
   "execution_count": 19,
   "id": "1dede335-ed6d-4384-9702-0088f1640f08",
   "metadata": {},
   "outputs": [
    {
     "data": {
      "text/html": [
       "<div>\n",
       "<style scoped>\n",
       "    .dataframe tbody tr th:only-of-type {\n",
       "        vertical-align: middle;\n",
       "    }\n",
       "\n",
       "    .dataframe tbody tr th {\n",
       "        vertical-align: top;\n",
       "    }\n",
       "\n",
       "    .dataframe thead th {\n",
       "        text-align: right;\n",
       "    }\n",
       "</style>\n",
       "<table border=\"1\" class=\"dataframe\">\n",
       "  <thead>\n",
       "    <tr style=\"text-align: right;\">\n",
       "      <th></th>\n",
       "      <th>Segment</th>\n",
       "      <th>City</th>\n",
       "      <th>Quantity_sum</th>\n",
       "    </tr>\n",
       "  </thead>\n",
       "  <tbody>\n",
       "    <tr>\n",
       "      <th>0</th>\n",
       "      <td>Consumer</td>\n",
       "      <td>Aberdeen</td>\n",
       "      <td>3</td>\n",
       "    </tr>\n",
       "    <tr>\n",
       "      <th>1</th>\n",
       "      <td>Consumer</td>\n",
       "      <td>Abilene</td>\n",
       "      <td>2</td>\n",
       "    </tr>\n",
       "    <tr>\n",
       "      <th>2</th>\n",
       "      <td>Consumer</td>\n",
       "      <td>Akron</td>\n",
       "      <td>40</td>\n",
       "    </tr>\n",
       "    <tr>\n",
       "      <th>3</th>\n",
       "      <td>Consumer</td>\n",
       "      <td>Albuquerque</td>\n",
       "      <td>10</td>\n",
       "    </tr>\n",
       "    <tr>\n",
       "      <th>4</th>\n",
       "      <td>Consumer</td>\n",
       "      <td>Alexandria</td>\n",
       "      <td>14</td>\n",
       "    </tr>\n",
       "    <tr>\n",
       "      <th>...</th>\n",
       "      <td>...</td>\n",
       "      <td>...</td>\n",
       "      <td>...</td>\n",
       "    </tr>\n",
       "    <tr>\n",
       "      <th>1021</th>\n",
       "      <td>Home Office</td>\n",
       "      <td>Wilmington</td>\n",
       "      <td>9</td>\n",
       "    </tr>\n",
       "    <tr>\n",
       "      <th>1022</th>\n",
       "      <td>Home Office</td>\n",
       "      <td>Wilson</td>\n",
       "      <td>5</td>\n",
       "    </tr>\n",
       "    <tr>\n",
       "      <th>1023</th>\n",
       "      <td>Home Office</td>\n",
       "      <td>Woodstock</td>\n",
       "      <td>2</td>\n",
       "    </tr>\n",
       "    <tr>\n",
       "      <th>1024</th>\n",
       "      <td>Home Office</td>\n",
       "      <td>Yonkers</td>\n",
       "      <td>8</td>\n",
       "    </tr>\n",
       "    <tr>\n",
       "      <th>1025</th>\n",
       "      <td>Home Office</td>\n",
       "      <td>Yuma</td>\n",
       "      <td>11</td>\n",
       "    </tr>\n",
       "  </tbody>\n",
       "</table>\n",
       "<p>1026 rows × 3 columns</p>\n",
       "</div>"
      ],
      "text/plain": [
       "          Segment         City  Quantity_sum\n",
       "0        Consumer     Aberdeen             3\n",
       "1        Consumer      Abilene             2\n",
       "2        Consumer        Akron            40\n",
       "3        Consumer  Albuquerque            10\n",
       "4        Consumer   Alexandria            14\n",
       "...           ...          ...           ...\n",
       "1021  Home Office   Wilmington             9\n",
       "1022  Home Office       Wilson             5\n",
       "1023  Home Office    Woodstock             2\n",
       "1024  Home Office      Yonkers             8\n",
       "1025  Home Office         Yuma            11\n",
       "\n",
       "[1026 rows x 3 columns]"
      ]
     },
     "execution_count": 19,
     "metadata": {},
     "output_type": "execute_result"
    }
   ],
   "source": [
    "data = data.groupby(['Segment','City'])['Quantity'].sum().reset_index(name = 'Quantity_sum')\n",
    "data    #if we don't write reset_index, then groupby k andr jo columns likhyn hn vo index bn jayn gy and \n",
    "# just quatity vala ek column ho ga, jab reset_index likhyn gy to segment or city bhi columns hon gy and quantity bhi \n",
    "# column ho ga and index alag s show ho ga , AND PURPOSE OF NAME INSIDE RESET_INDEX MEANS K JO NEW COLUMN \n",
    "# BNA H YANI QUANTITY COLUMN, US KA NAME QIUANTITY RKHNA H , NAME K ANDR JO BHI LIKHA VO NEW COLUMN KA NAME H"
   ]
  },
  {
   "cell_type": "code",
   "execution_count": 20,
   "id": "d8e834f5-572a-4266-babf-df0d7bf923e7",
   "metadata": {},
   "outputs": [],
   "source": [
    "geo = requests.get(\"https://cf-courses-data.s3.us.cloud-object-storage.appdomain.cloud/IBM-ML0232EN-SkillsNetwork/asset/canada_provinces.geojson\")\n",
    "mp = json.loads(geo.text) "
   ]
  },
  {
   "cell_type": "markdown",
   "id": "53ef33ad-7eef-4e31-aa98-fe691f264555",
   "metadata": {},
   "source": [
    "# Choropleth"
   ]
  },
  {
   "cell_type": "code",
   "execution_count": null,
   "id": "dd4ebdb7-2d1a-420a-be49-f6022cd0dd1e",
   "metadata": {},
   "outputs": [],
   "source": [
    "mp = json.loads(geo.text)\n",
    "    \n",
    "fig = px.choropleth(geodata,\n",
    "                    locations=\"ProvinceID\",\n",
    "                    geojson=mp,\n",
    "                    featureidkey=\"properties.cartodb_id\",\n",
    "                    color=\"Average Gasoline Price\",\n",
    "                    color_continuous_scale=px.colors.diverging.Tropic,\n",
    "                    scope='north america',\n",
    "                    title='<b>Average Gasoline Price </b>',                \n",
    "                    hover_name='Province',\n",
    "                    hover_data={\n",
    "                        'Average Gasoline Price' : True,\n",
    "                        'ProvinceID' : False\n",
    "                    },\n",
    "                     \n",
    "                    locationmode='geojson-id',\n",
    "                    )\n",
    "fig.update_layout(\n",
    "    showlegend=True,\n",
    "    legend_title_text='<b>Average Gasoline Price</b>',\n",
    "    font={\"size\": 16, \"color\": \"#808080\", \"family\" : \"calibri\"},\n",
    "    margin={\"r\":0,\"t\":40,\"l\":0,\"b\":0},\n",
    "    legend=dict(orientation='v'),\n",
    "    geo=dict(bgcolor='rgba(0,0,0,0)', lakecolor='#e0fffe')\n",
    ")\n",
    "\n",
    "#Show Canada only \n",
    "fig.update_geos(showcountries=False, showcoastlines=False,\n",
    "                showland=False, fitbounds=\"locations\",\n",
    "                subunitcolor='white')\n",
    "fig.show()"
   ]
  },
  {
   "cell_type": "code",
   "execution_count": null,
   "id": "cf997fa9-8d7a-44bd-b8fd-b5f9ce150379",
   "metadata": {},
   "outputs": [],
   "source": []
  },
  {
   "cell_type": "markdown",
   "id": "43ad5b1d-fdda-4dd6-beff-7fccddd1e2b9",
   "metadata": {},
   "source": [
    "# DATA TRANSFORMATION"
   ]
  },
  {
   "cell_type": "code",
   "execution_count": null,
   "id": "ffda95cc-8895-4d90-bfda-a28c96fc402c",
   "metadata": {},
   "outputs": [],
   "source": [
    "Linear regression assumes that residual are normally distributed\n",
    "--> To make variables normally distributed, we use log of each value of a variable or we can use log1p to prevent \n",
    "log0 issue\n",
    "--> We can also add polynomial features to our data, if the relation between input features and output is not \n",
    "linear. adding polynomial features to data means adding more variables and then model will fit on all these \n",
    " fearures. "
   ]
  },
  {
   "cell_type": "code",
   "execution_count": null,
   "id": "66a6ee68-5ac7-4342-8639-03d8e0b96223",
   "metadata": {},
   "outputs": [],
   "source": [
    "from pyodide.http import pyfetch\n",
    " \n",
    "async def download(url, filename):\n",
    "    response = await pyfetch(url)\n",
    "    if response.status == 200:\n",
    "        with open(filename, \"wb\") as f:\n",
    "            f.write(await response.bytes())\n",
    "            \n",
    "path = \"https://cf-courses-data.s3.us.cloud-object-storage.appdomain.cloud/IBM-ML0232EN-SkillsNetwork/asset/airlines_data.xlsx\"\n",
    " \n",
    "await download(path, \"airlines_data.xlsx\")\n",
    " \n",
    "data = pd.read_excel(\"airlines_data.xlsx\")\n",
    " \n",
    "data.head()"
   ]
  },
  {
   "cell_type": "code",
   "execution_count": null,
   "id": "24e19ea8-35f0-4164-8574-d9bdfde0977e",
   "metadata": {},
   "outputs": [],
   "source": [
    "duration = list(data1['Duration'])\n",
    "for i in range(len(duration)) :\n",
    "    if len(duration[i].split()) != 2:\n",
    "        if 'h' in duration[i] :\n",
    "            duration[i] = duration[i].strip() + ' 0m'\n",
    "        elif 'm' in duration[i] :\n",
    "            duration[i] = '0h {}'.format(duration[i].strip())\n",
    "dur_hours = []\n",
    "dur_minutes = []  .\n",
    " \n",
    "for i in range(len(duration)) :\n",
    "    dur_hours.append(int(duration[i].split()[0][:-1]))\n",
    "    dur_minutes.append(int(duration[i].split()[1][:-1]))\n",
    "     \n",
    " \n",
    "data1['Duration_hours'] = dur_hours\n",
    "data1['Duration_minutes'] =dur_minutes\n",
    "data1.loc[:,'Duration_hours'] *= 60\n",
    "data1['Duration_Total_mins']= data1['Duration_hours']+data1['Duration_minutes']"
   ]
  },
  {
   "cell_type": "code",
   "execution_count": null,
   "id": "47b9ff0c-3454-4e84-a799-6d2f1a492958",
   "metadata": {},
   "outputs": [],
   "source": []
  },
  {
   "cell_type": "markdown",
   "id": "d47a31ba-0d47-46b8-8a8f-c7651e14ebf8",
   "metadata": {},
   "source": [
    "# Feature Extraction using Principal Component Analysis"
   ]
  },
  {
   "cell_type": "code",
   "execution_count": null,
   "id": "cbcb7402-c362-424f-9cc5-48b1949ce3a1",
   "metadata": {},
   "outputs": [],
   "source": [
    "Dimentionality reduction is part of the feature extraction process that combines the existing features to produce more useful ones. The goal of dimensionality reduction is to simplify the data without loosing too much information. Principal Component Analysis (PCA) is one of the most popular dimensionality reduction algorithms. First, it identifies the hyperplane that lies closest to the data, and then it projects the data onto it. In this way, a few multidimensional features are merged into one.\n",
    "\n",
    "In the following portion of the lab, we will use scikit-learn library to perform some PCA on our data. To learn more about scikit-learn PCA, please visit this documentation.\n",
    "\n",
    "First, we must scale our data using the StandardScaler() function. We will assign all the independent variables to x, and the dependent variable, 'price', to y."
   ]
  },
  {
   "cell_type": "code",
   "execution_count": null,
   "id": "804c83a1-c941-4029-9bcf-5178d8cf1d8e",
   "metadata": {},
   "outputs": [],
   "source": [
    "UNDERSTAND IT "
   ]
  }
 ],
 "metadata": {
  "kernelspec": {
   "display_name": "Python 3 (ipykernel)",
   "language": "python",
   "name": "python3"
  },
  "language_info": {
   "codemirror_mode": {
    "name": "ipython",
    "version": 3
   },
   "file_extension": ".py",
   "mimetype": "text/x-python",
   "name": "python",
   "nbconvert_exporter": "python",
   "pygments_lexer": "ipython3",
   "version": "3.13.5"
  }
 },
 "nbformat": 4,
 "nbformat_minor": 5
}
